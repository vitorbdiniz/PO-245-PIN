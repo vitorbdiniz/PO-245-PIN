{
 "cells": [
  {
   "cell_type": "markdown",
   "source": [],
   "metadata": {
    "collapsed": false
   }
  },
  {
   "cell_type": "markdown",
   "source": [
    "# PIN Estimation"
   ],
   "metadata": {
    "collapsed": false
   }
  },
  {
   "cell_type": "code",
   "execution_count": 1,
   "outputs": [],
   "source": [
    "import pandas as pd\n",
    "\n",
    "from modules import dataset\n",
    "from modules import pin_estimation"
   ],
   "metadata": {
    "collapsed": false
   }
  },
  {
   "cell_type": "markdown",
   "source": [
    "## Load Data"
   ],
   "metadata": {
    "collapsed": false
   }
  },
  {
   "cell_type": "code",
   "execution_count": 3,
   "metadata": {
    "collapsed": true
   },
   "outputs": [
    {
     "data": {
      "text/plain": "       symbol     bucket   open   high    low  close   volume  comprador  \\\n15097   BMOB3 2022-09-08  14.29  14.38  14.12  14.25   301800        730   \n46556  GPIV33 2023-01-16   2.99   2.99   2.75   2.75    25626         11   \n48184   LJQQ3 2023-07-20   5.56   5.61   5.47   5.55  1453500       1947   \n88943   ONCO3 2022-11-29   7.23   7.41   7.15   7.36   950100        767   \n99935   PGMN3 2023-06-15   3.65   3.90   3.65   3.90  1217400       1273   \n\n       indefinido  vendedor  naodireto  direto  rlp  \n15097          47      1015       1773       1   18  \n46556           0        20         31       0    0  \n48184          36      1150       3133       0    0  \n88943          22       973       1762       0    0  \n99935          44       856       2172       1    0  ",
      "text/html": "<div>\n<style scoped>\n    .dataframe tbody tr th:only-of-type {\n        vertical-align: middle;\n    }\n\n    .dataframe tbody tr th {\n        vertical-align: top;\n    }\n\n    .dataframe thead th {\n        text-align: right;\n    }\n</style>\n<table border=\"1\" class=\"dataframe\">\n  <thead>\n    <tr style=\"text-align: right;\">\n      <th></th>\n      <th>symbol</th>\n      <th>bucket</th>\n      <th>open</th>\n      <th>high</th>\n      <th>low</th>\n      <th>close</th>\n      <th>volume</th>\n      <th>comprador</th>\n      <th>indefinido</th>\n      <th>vendedor</th>\n      <th>naodireto</th>\n      <th>direto</th>\n      <th>rlp</th>\n    </tr>\n  </thead>\n  <tbody>\n    <tr>\n      <th>15097</th>\n      <td>BMOB3</td>\n      <td>2022-09-08</td>\n      <td>14.29</td>\n      <td>14.38</td>\n      <td>14.12</td>\n      <td>14.25</td>\n      <td>301800</td>\n      <td>730</td>\n      <td>47</td>\n      <td>1015</td>\n      <td>1773</td>\n      <td>1</td>\n      <td>18</td>\n    </tr>\n    <tr>\n      <th>46556</th>\n      <td>GPIV33</td>\n      <td>2023-01-16</td>\n      <td>2.99</td>\n      <td>2.99</td>\n      <td>2.75</td>\n      <td>2.75</td>\n      <td>25626</td>\n      <td>11</td>\n      <td>0</td>\n      <td>20</td>\n      <td>31</td>\n      <td>0</td>\n      <td>0</td>\n    </tr>\n    <tr>\n      <th>48184</th>\n      <td>LJQQ3</td>\n      <td>2023-07-20</td>\n      <td>5.56</td>\n      <td>5.61</td>\n      <td>5.47</td>\n      <td>5.55</td>\n      <td>1453500</td>\n      <td>1947</td>\n      <td>36</td>\n      <td>1150</td>\n      <td>3133</td>\n      <td>0</td>\n      <td>0</td>\n    </tr>\n    <tr>\n      <th>88943</th>\n      <td>ONCO3</td>\n      <td>2022-11-29</td>\n      <td>7.23</td>\n      <td>7.41</td>\n      <td>7.15</td>\n      <td>7.36</td>\n      <td>950100</td>\n      <td>767</td>\n      <td>22</td>\n      <td>973</td>\n      <td>1762</td>\n      <td>0</td>\n      <td>0</td>\n    </tr>\n    <tr>\n      <th>99935</th>\n      <td>PGMN3</td>\n      <td>2023-06-15</td>\n      <td>3.65</td>\n      <td>3.90</td>\n      <td>3.65</td>\n      <td>3.90</td>\n      <td>1217400</td>\n      <td>1273</td>\n      <td>44</td>\n      <td>856</td>\n      <td>2172</td>\n      <td>1</td>\n      <td>0</td>\n    </tr>\n  </tbody>\n</table>\n</div>"
     },
     "execution_count": 3,
     "metadata": {},
     "output_type": "execute_result"
    }
   ],
   "source": [
    "quotes = dataset.load_cedro_quotes()\n",
    "quotes.sample(5)"
   ]
  },
  {
   "cell_type": "markdown",
   "source": [
    "## Estimate PINs"
   ],
   "metadata": {
    "collapsed": false
   }
  },
  {
   "cell_type": "code",
   "execution_count": 4,
   "outputs": [
    {
     "data": {
      "text/plain": "      symbol     period       pin     alpha     delta           mu  \\\n10408  ESPA3 2022-09-19  0.146343  0.383325  0.521739  2078.833919   \n51293  PFRM3 2023-05-25  0.098210  0.100001  1.000000   722.851457   \n705    TPIS3 2023-07-24  0.237352  0.266666  0.312501   229.267522   \n41468  TELB3 2023-05-26  0.419362  0.261454  0.115179    44.563424   \n35621  BOAS3 2023-07-17  0.194848  0.366663  0.272729  1267.452318   \n\n             eps_b        eps_s  \n10408  2155.903361  2492.460169  \n51293   331.100053   332.648129  \n705      85.207586   111.238010  \n41468     3.931111    12.200952  \n35621   976.368799   943.982243  ",
      "text/html": "<div>\n<style scoped>\n    .dataframe tbody tr th:only-of-type {\n        vertical-align: middle;\n    }\n\n    .dataframe tbody tr th {\n        vertical-align: top;\n    }\n\n    .dataframe thead th {\n        text-align: right;\n    }\n</style>\n<table border=\"1\" class=\"dataframe\">\n  <thead>\n    <tr style=\"text-align: right;\">\n      <th></th>\n      <th>symbol</th>\n      <th>period</th>\n      <th>pin</th>\n      <th>alpha</th>\n      <th>delta</th>\n      <th>mu</th>\n      <th>eps_b</th>\n      <th>eps_s</th>\n    </tr>\n  </thead>\n  <tbody>\n    <tr>\n      <th>10408</th>\n      <td>ESPA3</td>\n      <td>2022-09-19</td>\n      <td>0.146343</td>\n      <td>0.383325</td>\n      <td>0.521739</td>\n      <td>2078.833919</td>\n      <td>2155.903361</td>\n      <td>2492.460169</td>\n    </tr>\n    <tr>\n      <th>51293</th>\n      <td>PFRM3</td>\n      <td>2023-05-25</td>\n      <td>0.098210</td>\n      <td>0.100001</td>\n      <td>1.000000</td>\n      <td>722.851457</td>\n      <td>331.100053</td>\n      <td>332.648129</td>\n    </tr>\n    <tr>\n      <th>705</th>\n      <td>TPIS3</td>\n      <td>2023-07-24</td>\n      <td>0.237352</td>\n      <td>0.266666</td>\n      <td>0.312501</td>\n      <td>229.267522</td>\n      <td>85.207586</td>\n      <td>111.238010</td>\n    </tr>\n    <tr>\n      <th>41468</th>\n      <td>TELB3</td>\n      <td>2023-05-26</td>\n      <td>0.419362</td>\n      <td>0.261454</td>\n      <td>0.115179</td>\n      <td>44.563424</td>\n      <td>3.931111</td>\n      <td>12.200952</td>\n    </tr>\n    <tr>\n      <th>35621</th>\n      <td>BOAS3</td>\n      <td>2023-07-17</td>\n      <td>0.194848</td>\n      <td>0.366663</td>\n      <td>0.272729</td>\n      <td>1267.452318</td>\n      <td>976.368799</td>\n      <td>943.982243</td>\n    </tr>\n  </tbody>\n</table>\n</div>"
     },
     "execution_count": 4,
     "metadata": {},
     "output_type": "execute_result"
    }
   ],
   "source": [
    "estimate_all_pins = False\n",
    "if estimate_all_pins:\n",
    "    pins = pin_estimation.estimate_all_pins(quotes, window=60, verbose=True)\n",
    "else:\n",
    "    pins = dataset.load_results()['pin_results']\n",
    "pins.sample(5)"
   ],
   "metadata": {
    "collapsed": false
   }
  },
  {
   "cell_type": "markdown",
   "source": [
    "# Portfolio Build"
   ],
   "metadata": {
    "collapsed": false
   }
  },
  {
   "cell_type": "code",
   "execution_count": 5,
   "outputs": [],
   "source": [
    "from modules import stock_selection\n",
    "from modules import portfolio_build"
   ],
   "metadata": {
    "collapsed": false
   }
  },
  {
   "cell_type": "code",
   "execution_count": 6,
   "outputs": [
    {
     "name": "stdout",
     "output_type": "stream",
     "text": [
      "Eco-Data type is <class 'dict'>. Its keys are dict_keys(['volumes', 'ibov', 'closing_prices'])\n"
     ]
    }
   ],
   "source": [
    "eco_data = dataset.load_economatica_quotes()\n",
    "print(f'Eco-Data type is {type(eco_data)}. Its keys are {eco_data.keys()}')"
   ],
   "metadata": {
    "collapsed": false
   }
  },
  {
   "cell_type": "code",
   "execution_count": 7,
   "outputs": [
    {
     "data": {
      "text/plain": "{'pins': {'long':        symbol     period       pin     alpha     delta            mu  \\\n  4018    SEQL3 2022-06-30  0.193954  0.433354  1.000000   2281.942025   \n  57191  AURA33 2022-07-29  0.228066  0.333326  0.699991   3422.926164   \n  13534   JHSF3 2022-08-31  0.178792  0.449996  0.777770   2332.391765   \n  8483    CASH3 2022-09-30  0.236780  0.083325  0.799966  37872.301500   \n  22143   OPCT3 2022-09-30  0.220967  0.416672  0.760001    867.807652   \n  ...       ...        ...       ...       ...       ...           ...   \n  59185   IRBR3 2023-08-28  0.168738  0.383328  0.956515   3764.882521   \n  59407   CGRA3 2023-08-28  0.325164  0.300005  1.000000     45.973807   \n  61627   COCE5 2023-08-28  0.209680  0.350504  0.945526     54.906982   \n  76149   SEER3 2023-08-28  0.174740  0.333330  0.750000   1454.902737   \n  77004   RAIZ4 2023-08-28  0.273132  0.533351  0.781247   9270.317291   \n  \n               eps_b        eps_s  \n  4018   2328.535814  1781.142529  \n  57191  2059.777061  1801.997371  \n  13534  2593.592668  2227.164611  \n  8483   4866.310976  5305.632146  \n  22143   719.610057   555.203388  \n  ...            ...          ...  \n  59185  4196.206542  2913.456352  \n  59407    20.266648     8.357615  \n  61627    36.138429    36.399757  \n  76149  1202.870683  1087.511925  \n  77004  7492.645591  5665.386519  \n  \n  [133 rows x 8 columns],\n  'short':        symbol     period       pin     alpha     delta           mu  \\\n  31860   AESB3 2022-06-30  0.160155  0.383342  0.434788  2722.864177   \n  5100    RAPT4 2022-07-29  0.146708  0.450013  0.333334  1962.463340   \n  57046  AURA33 2022-08-31  0.227929  0.433335  0.384627  2388.322683   \n  16526   SHOW3 2022-09-30  0.198691  0.199997  0.083332   646.467096   \n  19148   TRIS3 2022-09-30  0.178466  0.366661  0.045457  1234.541893   \n  ...       ...        ...       ...       ...       ...          ...   \n  55755   MBLY3 2023-08-28  0.239072  0.449998  0.185193  1204.890714   \n  70922   LIGT3 2023-08-28  0.234311  0.399996  0.041670  3960.892501   \n  73099   ENEV3 2023-08-28  0.187123  0.516678  0.193525  5411.780741   \n  81636   EVEN3 2023-08-28  0.198176  0.466671  0.214289  1446.603333   \n  89573   WEST3 2023-08-28  0.319232  0.266663  0.249998  1390.226346   \n  \n               eps_b        eps_s  \n  31860  2564.096586  2909.488129  \n  5100   2241.239602  2895.285278  \n  57046  1572.280626  1933.429144  \n  16526   193.881177   327.542021  \n  19148   874.493920  1209.224369  \n  ...            ...          ...  \n  55755   878.598255   847.134538  \n  70922  1858.192303  3319.167239  \n  73099  5332.389753  6814.289638  \n  81636  1244.317619  1487.100376  \n  89573   325.663402   464.909485  \n  \n  [133 rows x 8 columns]},\n 'weights': {'long': {Timestamp('2022-06-30 00:00:00'): {'SEQL3': 1.0,\n    'SELIC': 1},\n   Timestamp('2022-07-29 00:00:00'): {'AURA33': 1.0, 'SELIC': 1},\n   Timestamp('2022-08-31 00:00:00'): {'JHSF3': 1.0, 'SELIC': 1},\n   Timestamp('2022-09-30 00:00:00'): {'CASH3': 0.1,\n    'OPCT3': 0.1,\n    'VULC3': 0.1,\n    'MDNE3': 0.1,\n    'INEP3': 0.1,\n    'RCSL3': 0.1,\n    'ALLD3': 0.1,\n    'TECN3': 0.1,\n    'NGRD3': 0.1,\n    'VIVR3': 0.1,\n    'SELIC': 1},\n   Timestamp('2022-10-31 00:00:00'): {'LPSB3': 0.1,\n    'TEND3': 0.1,\n    'DIRR3': 0.1,\n    'FRAS3': 0.1,\n    'MDNE3': 0.1,\n    'RCSL3': 0.1,\n    'MBLY3': 0.1,\n    'COCE5': 0.1,\n    'TECN3': 0.1,\n    'PARD3': 0.1,\n    'SELIC': 1},\n   Timestamp('2022-11-30 00:00:00'): {'SEQL3': 0.1,\n    'PDGR3': 0.1,\n    'CGAS5': 0.1,\n    'MELK3': 0.1,\n    'INEP3': 0.1,\n    'MBLY3': 0.1,\n    'CXSE3': 0.1,\n    'IRBR3': 0.1,\n    'MODL3': 0.1,\n    'APER3': 0.1,\n    'SELIC': 1},\n   Timestamp('2022-12-29 00:00:00'): {'PDGR3': 0.09090909090909091,\n    'ABCB4': 0.09090909090909091,\n    'MRFG3': 0.09090909090909091,\n    'JSLG3': 0.09090909090909091,\n    'CGRA4': 0.09090909090909091,\n    'CEAB3': 0.09090909090909091,\n    'LAVV3': 0.09090909090909091,\n    'MODL3': 0.09090909090909091,\n    'APER3': 0.09090909090909091,\n    'BRBI11': 0.09090909090909091,\n    'ENEV3': 0.09090909090909091,\n    'SELIC': 1},\n   Timestamp('2023-01-31 00:00:00'): {'TPIS3': 0.09090909090909091,\n    'BRIT3': 0.09090909090909091,\n    'PDGR3': 0.09090909090909091,\n    'MELK3': 0.09090909090909091,\n    'HBOR3': 0.09090909090909091,\n    'AERI3': 0.09090909090909091,\n    'JSLG3': 0.09090909090909091,\n    'EUCA4': 0.09090909090909091,\n    'FIQE3': 0.09090909090909091,\n    'APER3': 0.09090909090909091,\n    'TECN3': 0.09090909090909091,\n    'SELIC': 1},\n   Timestamp('2023-02-28 00:00:00'): {'BRIT3': 0.09090909090909091,\n    'PDGR3': 0.09090909090909091,\n    'MELK3': 0.09090909090909091,\n    'OPCT3': 0.09090909090909091,\n    'FHER3': 0.09090909090909091,\n    'HBOR3': 0.09090909090909091,\n    'VVEO3': 0.09090909090909091,\n    'BLAU3': 0.09090909090909091,\n    'EUCA4': 0.09090909090909091,\n    'APER3': 0.09090909090909091,\n    'UGPA3': 0.09090909090909091,\n    'SELIC': 1},\n   Timestamp('2023-03-31 00:00:00'): {'AMAR3': 0.09090909090909091,\n    'SEQL3': 0.09090909090909091,\n    'DESK3': 0.09090909090909091,\n    'JHSF3': 0.09090909090909091,\n    'MELK3': 0.09090909090909091,\n    'AMER3': 0.09090909090909091,\n    'PORT3': 0.09090909090909091,\n    'VIIA3': 0.09090909090909091,\n    'FIQE3': 0.09090909090909091,\n    'LAVV3': 0.09090909090909091,\n    'APER3': 0.09090909090909091,\n    'SELIC': 1},\n   Timestamp('2023-04-28 00:00:00'): {'AMAR3': 0.09090909090909091,\n    'DESK3': 0.09090909090909091,\n    'CTNM4': 0.09090909090909091,\n    'MELK3': 0.09090909090909091,\n    'AMER3': 0.09090909090909091,\n    'FHER3': 0.09090909090909091,\n    'VIIA3': 0.09090909090909091,\n    'APER3': 0.09090909090909091,\n    'SLCE3': 0.09090909090909091,\n    'NEOE3': 0.09090909090909091,\n    'PLPL3': 0.09090909090909091,\n    'SELIC': 1},\n   Timestamp('2023-05-31 00:00:00'): {'MULT3': 0.09090909090909091,\n    'ANIM3': 0.09090909090909091,\n    'ENBR3': 0.09090909090909091,\n    'MELK3': 0.09090909090909091,\n    'FHER3': 0.09090909090909091,\n    'ALPK3': 0.09090909090909091,\n    'MDNE3': 0.09090909090909091,\n    'LAND3': 0.09090909090909091,\n    'IRBR3': 0.09090909090909091,\n    'CLSC4': 0.09090909090909091,\n    'PLPL3': 0.09090909090909091,\n    'SELIC': 1},\n   Timestamp('2023-06-29 00:00:00'): {'CASH3': 0.08333333333333333,\n    'DESK3': 0.08333333333333333,\n    'ELET3': 0.08333333333333333,\n    'KRSA3': 0.08333333333333333,\n    'FHER3': 0.08333333333333333,\n    'MDNE3': 0.08333333333333333,\n    'LAND3': 0.08333333333333333,\n    'EUCA4': 0.08333333333333333,\n    'POMO4': 0.08333333333333333,\n    'CPLE6': 0.08333333333333333,\n    'CAML3': 0.08333333333333333,\n    'SLED4': 0.08333333333333333,\n    'SELIC': 1},\n   Timestamp('2023-07-31 00:00:00'): {'BRIT3': 0.09090909090909091,\n    'BRKM5': 0.09090909090909091,\n    'DASA3': 0.09090909090909091,\n    'JSLG3': 0.09090909090909091,\n    'CXSE3': 0.09090909090909091,\n    'COCE5': 0.09090909090909091,\n    'POSI3': 0.09090909090909091,\n    'ONCO3': 0.09090909090909091,\n    'SAPR11': 0.09090909090909091,\n    'SLED4': 0.09090909090909091,\n    'MEAL3': 0.09090909090909091,\n    'SELIC': 1},\n   Timestamp('2023-08-28 00:00:00'): {'JHSF3': 0.09090909090909091,\n    'DASA3': 0.09090909090909091,\n    'AMER3': 0.09090909090909091,\n    'PORT3': 0.09090909090909091,\n    'TFCO4': 0.09090909090909091,\n    'GFSA3': 0.09090909090909091,\n    'IRBR3': 0.09090909090909091,\n    'CGRA3': 0.09090909090909091,\n    'COCE5': 0.09090909090909091,\n    'SEER3': 0.09090909090909091,\n    'RAIZ4': 0.09090909090909091,\n    'SELIC': 1}},\n  'short': {Timestamp('2022-06-30 00:00:00'): {'AESB3': 1.0},\n   Timestamp('2022-07-29 00:00:00'): {'RAPT4': 1.0},\n   Timestamp('2022-08-31 00:00:00'): {'AURA33': 1.0},\n   Timestamp('2022-09-30 00:00:00'): {'SHOW3': 0.1,\n    'TRIS3': 0.1,\n    'LUPA3': 0.1,\n    'ENJU3': 0.1,\n    'PFRM3': 0.1,\n    'VIIA3': 0.1,\n    'BLAU3': 0.1,\n    'POSI3': 0.1,\n    'EVEN3': 0.1,\n    'PARD3': 0.1},\n   Timestamp('2022-10-31 00:00:00'): {'AZEV4': 0.1,\n    'LUPA3': 0.1,\n    'G2DI33': 0.1,\n    'INEP3': 0.1,\n    'ENJU3': 0.1,\n    'LAND3': 0.1,\n    'AURA33': 0.1,\n    'COGN3': 0.1,\n    'PGMN3': 0.1,\n    'EVEN3': 0.1},\n   Timestamp('2022-11-30 00:00:00'): {'TPIS3': 0.1,\n    'SHOW3': 0.1,\n    'BPAN4': 0.1,\n    'BRAP4': 0.1,\n    'ENJU3': 0.1,\n    'LAND3': 0.1,\n    'ROMI3': 0.1,\n    'PGMN3': 0.1,\n    'PARD3': 0.1,\n    'TCSA3': 0.1},\n   Timestamp('2022-12-29 00:00:00'): {'MRVE3': 0.09090909090909091,\n    'SHOW3': 0.09090909090909091,\n    'BPAN4': 0.09090909090909091,\n    'FHER3': 0.09090909090909091,\n    'LAND3': 0.09090909090909091,\n    'RADL3': 0.09090909090909091,\n    'VLID3': 0.09090909090909091,\n    'NGRD3': 0.09090909090909091,\n    'EVEN3': 0.09090909090909091,\n    'MEAL3': 0.09090909090909091,\n    'PARD3': 0.09090909090909091},\n   Timestamp('2023-01-31 00:00:00'): {'SHOW3': 0.09090909090909091,\n    'AGXY3': 0.09090909090909091,\n    'BOAS3': 0.09090909090909091,\n    'PTBL3': 0.09090909090909091,\n    'RCSL3': 0.09090909090909091,\n    'AURA33': 0.09090909090909091,\n    'GFSA3': 0.09090909090909091,\n    'PRNR3': 0.09090909090909091,\n    'RADL3': 0.09090909090909091,\n    'EVEN3': 0.09090909090909091,\n    'MEAL3': 0.09090909090909091},\n   Timestamp('2023-02-28 00:00:00'): {'AZEV4': 0.09090909090909091,\n    'AGXY3': 0.09090909090909091,\n    'DEXP3': 0.09090909090909091,\n    'PORT3': 0.09090909090909091,\n    'INEP3': 0.09090909090909091,\n    'RCSL3': 0.09090909090909091,\n    'OIBR3': 0.09090909090909091,\n    'PRNR3': 0.09090909090909091,\n    'VITT3': 0.09090909090909091,\n    'TECN3': 0.09090909090909091,\n    'MATD3': 0.09090909090909091},\n   Timestamp('2023-03-31 00:00:00'): {'SHOW3': 0.09090909090909091,\n    'DEXP3': 0.09090909090909091,\n    'FHER3': 0.09090909090909091,\n    'INEP3': 0.09090909090909091,\n    'VVEO3': 0.09090909090909091,\n    'RCSL3': 0.09090909090909091,\n    'BLAU3': 0.09090909090909091,\n    'AALR3': 0.09090909090909091,\n    'VITT3': 0.09090909090909091,\n    'MODL3': 0.09090909090909091,\n    'TECN3': 0.09090909090909091},\n   Timestamp('2023-04-28 00:00:00'): {'SGPS3': 0.09090909090909091,\n    'BRPR3': 0.09090909090909091,\n    'LUPA3': 0.09090909090909091,\n    'LOGN3': 0.09090909090909091,\n    'VVEO3': 0.09090909090909091,\n    'RCSL3': 0.09090909090909091,\n    'AALR3': 0.09090909090909091,\n    'ALUP11': 0.09090909090909091,\n    'VITT3': 0.09090909090909091,\n    'TECN3': 0.09090909090909091,\n    'NGRD3': 0.09090909090909091},\n   Timestamp('2023-05-31 00:00:00'): {'SHOW3': 0.09090909090909091,\n    'BRPR3': 0.09090909090909091,\n    'TFCO4': 0.09090909090909091,\n    'RCSL3': 0.09090909090909091,\n    'SHUL4': 0.09090909090909091,\n    'VITT3': 0.09090909090909091,\n    'HBRE3': 0.09090909090909091,\n    'APER3': 0.09090909090909091,\n    'MOAR3': 0.09090909090909091,\n    'VIVR3': 0.09090909090909091,\n    'PINE4': 0.09090909090909091},\n   Timestamp('2023-06-29 00:00:00'): {'SGPS3': 0.08333333333333333,\n    'TRAD3': 0.08333333333333333,\n    'NINJ3': 0.08333333333333333,\n    'HBSA3': 0.08333333333333333,\n    'INEP3': 0.08333333333333333,\n    'VVEO3': 0.08333333333333333,\n    'RCSL3': 0.08333333333333333,\n    'MBLY3': 0.08333333333333333,\n    'ATMP3': 0.08333333333333333,\n    'VITT3': 0.08333333333333333,\n    'HBRE3': 0.08333333333333333,\n    'LIGT3': 0.08333333333333333},\n   Timestamp('2023-07-31 00:00:00'): {'AZEV4': 0.09090909090909091,\n    'TRAD3': 0.09090909090909091,\n    'BRPR3': 0.09090909090909091,\n    'PDTC3': 0.09090909090909091,\n    'MBLY3': 0.09090909090909091,\n    'ATMP3': 0.09090909090909091,\n    'VITT3': 0.09090909090909091,\n    'LIGT3': 0.09090909090909091,\n    'EVEN3': 0.09090909090909091,\n    'CSED3': 0.09090909090909091,\n    'WEST3': 0.09090909090909091},\n   Timestamp('2023-08-28 00:00:00'): {'SGPS3': 0.09090909090909091,\n    'AZEV4': 0.09090909090909091,\n    'TRAD3': 0.09090909090909091,\n    'BRPR3': 0.09090909090909091,\n    'RCSL4': 0.09090909090909091,\n    'LUPA3': 0.09090909090909091,\n    'MBLY3': 0.09090909090909091,\n    'LIGT3': 0.09090909090909091,\n    'ENEV3': 0.09090909090909091,\n    'EVEN3': 0.09090909090909091,\n    'WEST3': 0.09090909090909091}},\n  'longonly': {Timestamp('2022-06-30 00:00:00'): {'SEQL3': 1.0},\n   Timestamp('2022-07-29 00:00:00'): {'AURA33': 1.0},\n   Timestamp('2022-08-31 00:00:00'): {'JHSF3': 1.0},\n   Timestamp('2022-09-30 00:00:00'): {'CASH3': 0.1,\n    'OPCT3': 0.1,\n    'VULC3': 0.1,\n    'MDNE3': 0.1,\n    'INEP3': 0.1,\n    'RCSL3': 0.1,\n    'ALLD3': 0.1,\n    'TECN3': 0.1,\n    'NGRD3': 0.1,\n    'VIVR3': 0.1},\n   Timestamp('2022-10-31 00:00:00'): {'LPSB3': 0.1,\n    'TEND3': 0.1,\n    'DIRR3': 0.1,\n    'FRAS3': 0.1,\n    'MDNE3': 0.1,\n    'RCSL3': 0.1,\n    'MBLY3': 0.1,\n    'COCE5': 0.1,\n    'TECN3': 0.1,\n    'PARD3': 0.1},\n   Timestamp('2022-11-30 00:00:00'): {'SEQL3': 0.1,\n    'PDGR3': 0.1,\n    'CGAS5': 0.1,\n    'MELK3': 0.1,\n    'INEP3': 0.1,\n    'MBLY3': 0.1,\n    'CXSE3': 0.1,\n    'IRBR3': 0.1,\n    'MODL3': 0.1,\n    'APER3': 0.1},\n   Timestamp('2022-12-29 00:00:00'): {'PDGR3': 0.09090909090909091,\n    'ABCB4': 0.09090909090909091,\n    'MRFG3': 0.09090909090909091,\n    'JSLG3': 0.09090909090909091,\n    'CGRA4': 0.09090909090909091,\n    'CEAB3': 0.09090909090909091,\n    'LAVV3': 0.09090909090909091,\n    'MODL3': 0.09090909090909091,\n    'APER3': 0.09090909090909091,\n    'BRBI11': 0.09090909090909091,\n    'ENEV3': 0.09090909090909091},\n   Timestamp('2023-01-31 00:00:00'): {'TPIS3': 0.09090909090909091,\n    'BRIT3': 0.09090909090909091,\n    'PDGR3': 0.09090909090909091,\n    'MELK3': 0.09090909090909091,\n    'HBOR3': 0.09090909090909091,\n    'AERI3': 0.09090909090909091,\n    'JSLG3': 0.09090909090909091,\n    'EUCA4': 0.09090909090909091,\n    'FIQE3': 0.09090909090909091,\n    'APER3': 0.09090909090909091,\n    'TECN3': 0.09090909090909091},\n   Timestamp('2023-02-28 00:00:00'): {'BRIT3': 0.09090909090909091,\n    'PDGR3': 0.09090909090909091,\n    'MELK3': 0.09090909090909091,\n    'OPCT3': 0.09090909090909091,\n    'FHER3': 0.09090909090909091,\n    'HBOR3': 0.09090909090909091,\n    'VVEO3': 0.09090909090909091,\n    'BLAU3': 0.09090909090909091,\n    'EUCA4': 0.09090909090909091,\n    'APER3': 0.09090909090909091,\n    'UGPA3': 0.09090909090909091},\n   Timestamp('2023-03-31 00:00:00'): {'AMAR3': 0.09090909090909091,\n    'SEQL3': 0.09090909090909091,\n    'DESK3': 0.09090909090909091,\n    'JHSF3': 0.09090909090909091,\n    'MELK3': 0.09090909090909091,\n    'AMER3': 0.09090909090909091,\n    'PORT3': 0.09090909090909091,\n    'VIIA3': 0.09090909090909091,\n    'FIQE3': 0.09090909090909091,\n    'LAVV3': 0.09090909090909091,\n    'APER3': 0.09090909090909091},\n   Timestamp('2023-04-28 00:00:00'): {'AMAR3': 0.09090909090909091,\n    'DESK3': 0.09090909090909091,\n    'CTNM4': 0.09090909090909091,\n    'MELK3': 0.09090909090909091,\n    'AMER3': 0.09090909090909091,\n    'FHER3': 0.09090909090909091,\n    'VIIA3': 0.09090909090909091,\n    'APER3': 0.09090909090909091,\n    'SLCE3': 0.09090909090909091,\n    'NEOE3': 0.09090909090909091,\n    'PLPL3': 0.09090909090909091},\n   Timestamp('2023-05-31 00:00:00'): {'MULT3': 0.09090909090909091,\n    'ANIM3': 0.09090909090909091,\n    'ENBR3': 0.09090909090909091,\n    'MELK3': 0.09090909090909091,\n    'FHER3': 0.09090909090909091,\n    'ALPK3': 0.09090909090909091,\n    'MDNE3': 0.09090909090909091,\n    'LAND3': 0.09090909090909091,\n    'IRBR3': 0.09090909090909091,\n    'CLSC4': 0.09090909090909091,\n    'PLPL3': 0.09090909090909091},\n   Timestamp('2023-06-29 00:00:00'): {'CASH3': 0.08333333333333333,\n    'DESK3': 0.08333333333333333,\n    'ELET3': 0.08333333333333333,\n    'KRSA3': 0.08333333333333333,\n    'FHER3': 0.08333333333333333,\n    'MDNE3': 0.08333333333333333,\n    'LAND3': 0.08333333333333333,\n    'EUCA4': 0.08333333333333333,\n    'POMO4': 0.08333333333333333,\n    'CPLE6': 0.08333333333333333,\n    'CAML3': 0.08333333333333333,\n    'SLED4': 0.08333333333333333},\n   Timestamp('2023-07-31 00:00:00'): {'BRIT3': 0.09090909090909091,\n    'BRKM5': 0.09090909090909091,\n    'DASA3': 0.09090909090909091,\n    'JSLG3': 0.09090909090909091,\n    'CXSE3': 0.09090909090909091,\n    'COCE5': 0.09090909090909091,\n    'POSI3': 0.09090909090909091,\n    'ONCO3': 0.09090909090909091,\n    'SAPR11': 0.09090909090909091,\n    'SLED4': 0.09090909090909091,\n    'MEAL3': 0.09090909090909091},\n   Timestamp('2023-08-28 00:00:00'): {'JHSF3': 0.09090909090909091,\n    'DASA3': 0.09090909090909091,\n    'AMER3': 0.09090909090909091,\n    'PORT3': 0.09090909090909091,\n    'TFCO4': 0.09090909090909091,\n    'GFSA3': 0.09090909090909091,\n    'IRBR3': 0.09090909090909091,\n    'CGRA3': 0.09090909090909091,\n    'COCE5': 0.09090909090909091,\n    'SEER3': 0.09090909090909091,\n    'RAIZ4': 0.09090909090909091}}}}"
     },
     "execution_count": 7,
     "metadata": {},
     "output_type": "execute_result"
    }
   ],
   "source": [
    "eligible_stocks = stock_selection.filter(eco_data['volumes'])\n",
    "portfolios = portfolio_build.portfolio_build(\n",
    "    pins,\n",
    "    eligible_stocks,\n",
    ")\n",
    "portfolios"
   ],
   "metadata": {
    "collapsed": false
   }
  },
  {
   "cell_type": "markdown",
   "source": [
    "## Calculate Returns"
   ],
   "metadata": {
    "collapsed": false
   }
  },
  {
   "cell_type": "code",
   "execution_count": 8,
   "outputs": [],
   "source": [
    "from modules import returns"
   ],
   "metadata": {
    "collapsed": false
   }
  },
  {
   "cell_type": "code",
   "execution_count": 9,
   "outputs": [
    {
     "data": {
      "text/plain": "                long     short  longonly  long_short\n2022-07-01 -0.048870  0.003752 -0.049360   -0.052622\n2022-07-04 -0.039894 -0.018692 -0.040385   -0.021203\n2022-07-05  0.042575  0.011429  0.042084    0.031146\n2022-07-06  0.000490  0.008475  0.000000   -0.007984\n2022-07-07  0.004337  0.010271  0.003846   -0.005934\n...              ...       ...       ...         ...\n2023-09-01  0.014920  0.026360  0.014429   -0.011441\n2023-09-04 -0.005777 -0.018228 -0.006267    0.012452\n2023-09-05 -0.011019  0.029056 -0.011509   -0.040075\n2023-09-06 -0.004292 -0.015351 -0.004783    0.011059\n2023-09-08 -0.000886  0.010033 -0.001376   -0.010919\n\n[299 rows x 4 columns]",
      "text/html": "<div>\n<style scoped>\n    .dataframe tbody tr th:only-of-type {\n        vertical-align: middle;\n    }\n\n    .dataframe tbody tr th {\n        vertical-align: top;\n    }\n\n    .dataframe thead th {\n        text-align: right;\n    }\n</style>\n<table border=\"1\" class=\"dataframe\">\n  <thead>\n    <tr style=\"text-align: right;\">\n      <th></th>\n      <th>long</th>\n      <th>short</th>\n      <th>longonly</th>\n      <th>long_short</th>\n    </tr>\n  </thead>\n  <tbody>\n    <tr>\n      <th>2022-07-01</th>\n      <td>-0.048870</td>\n      <td>0.003752</td>\n      <td>-0.049360</td>\n      <td>-0.052622</td>\n    </tr>\n    <tr>\n      <th>2022-07-04</th>\n      <td>-0.039894</td>\n      <td>-0.018692</td>\n      <td>-0.040385</td>\n      <td>-0.021203</td>\n    </tr>\n    <tr>\n      <th>2022-07-05</th>\n      <td>0.042575</td>\n      <td>0.011429</td>\n      <td>0.042084</td>\n      <td>0.031146</td>\n    </tr>\n    <tr>\n      <th>2022-07-06</th>\n      <td>0.000490</td>\n      <td>0.008475</td>\n      <td>0.000000</td>\n      <td>-0.007984</td>\n    </tr>\n    <tr>\n      <th>2022-07-07</th>\n      <td>0.004337</td>\n      <td>0.010271</td>\n      <td>0.003846</td>\n      <td>-0.005934</td>\n    </tr>\n    <tr>\n      <th>...</th>\n      <td>...</td>\n      <td>...</td>\n      <td>...</td>\n      <td>...</td>\n    </tr>\n    <tr>\n      <th>2023-09-01</th>\n      <td>0.014920</td>\n      <td>0.026360</td>\n      <td>0.014429</td>\n      <td>-0.011441</td>\n    </tr>\n    <tr>\n      <th>2023-09-04</th>\n      <td>-0.005777</td>\n      <td>-0.018228</td>\n      <td>-0.006267</td>\n      <td>0.012452</td>\n    </tr>\n    <tr>\n      <th>2023-09-05</th>\n      <td>-0.011019</td>\n      <td>0.029056</td>\n      <td>-0.011509</td>\n      <td>-0.040075</td>\n    </tr>\n    <tr>\n      <th>2023-09-06</th>\n      <td>-0.004292</td>\n      <td>-0.015351</td>\n      <td>-0.004783</td>\n      <td>0.011059</td>\n    </tr>\n    <tr>\n      <th>2023-09-08</th>\n      <td>-0.000886</td>\n      <td>0.010033</td>\n      <td>-0.001376</td>\n      <td>-0.010919</td>\n    </tr>\n  </tbody>\n</table>\n<p>299 rows × 4 columns</p>\n</div>"
     },
     "execution_count": 9,
     "metadata": {},
     "output_type": "execute_result"
    }
   ],
   "source": [
    "r = returns.calculate_all_portfolios_returns(portfolios['weights'], eco_data['closing_prices'])\n",
    "r"
   ],
   "metadata": {
    "collapsed": false
   }
  }
 ],
 "metadata": {
  "kernelspec": {
   "display_name": "Python 3",
   "language": "python",
   "name": "python3"
  },
  "language_info": {
   "codemirror_mode": {
    "name": "ipython",
    "version": 2
   },
   "file_extension": ".py",
   "mimetype": "text/x-python",
   "name": "python",
   "nbconvert_exporter": "python",
   "pygments_lexer": "ipython2",
   "version": "2.7.6"
  }
 },
 "nbformat": 4,
 "nbformat_minor": 0
}
