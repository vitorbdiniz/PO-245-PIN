{
 "cells": [
  {
   "cell_type": "code",
   "execution_count": 2,
   "outputs": [],
   "source": [
    "from fico import calculations"
   ],
   "metadata": {
    "collapsed": false,
    "ExecuteTime": {
     "start_time": "2023-04-22T18:51:52.069476Z",
     "end_time": "2023-04-22T18:51:52.113078Z"
    }
   }
  },
  {
   "cell_type": "code",
   "execution_count": 3,
   "metadata": {
    "ExecuteTime": {
     "start_time": "2023-04-22T18:51:58.582679Z",
     "end_time": "2023-04-22T18:51:58.615562Z"
    }
   },
   "outputs": [
    {
     "name": "stdout",
     "output_type": "stream",
     "text": [
      "Help on module fico.calculations in fico:\n",
      "\n",
      "NAME\n",
      "    fico.calculations - Provide several sample math calculations.\n",
      "\n",
      "DESCRIPTION\n",
      "    This module allows the user to make mathematical calculations.\n",
      "    \n",
      "    The module contains the following functions:\n",
      "    \n",
      "    - `add(a, b)` - Returns the sum of two numbers.\n",
      "    - `subtract(a, b)` - Returns the difference of two numbers.\n",
      "    - `multiply(a, b)` - Returns the product of two numbers.\n",
      "    - `divide(a, b)` - Returns the quotient of two numbers.\n",
      "    \n",
      "    Examples:\n",
      "        Examples should be written in `doctest` format, and should illustrate how to use the\n",
      "        function.\n",
      "    \n",
      "        >>> from fico import calculations\n",
      "        >>> calculations.add(2, 4)\n",
      "        6.0\n",
      "        >>> calculations.multiply(2.0, 4.0)\n",
      "        8.0\n",
      "        >>> from fico.calculations import divide\n",
      "        >>> divide(4.0, 2)\n",
      "        2.0\n",
      "\n",
      "FUNCTIONS\n",
      "    add(a: float | int, b: float | int) -> float\n",
      "        The add function adds two numbers together.\n",
      "        \n",
      "        Note:\n",
      "            Do not include the `self` parameter in the ``Args`` section.\n",
      "        \n",
      "        Tip:\n",
      "            Just a tip!\n",
      "        \n",
      "        Args:\n",
      "            a: First addend in the addition\n",
      "            b: Second addend in the addition\n",
      "        \n",
      "        Returns:\n",
      "            The sum of `a` and `b`\n",
      "        \n",
      "        Examples:\n",
      "            >>> add(4.0, 2.0)\n",
      "            6.0\n",
      "            >>> add(4, 2)\n",
      "            6.0\n",
      "    \n",
      "    divide(a: float | int, b: float | int) -> float\n",
      "        Calculate the quotient of two numbers.\n",
      "        \n",
      "        Args:\n",
      "            a: Dividend in the division\n",
      "            b: Divisor in the division\n",
      "        \n",
      "        Returns:\n",
      "            The quotient of `a` and `b`\n",
      "        \n",
      "        Raises:\n",
      "            ZeroDivisionError: Error when divisor is `0`\n",
      "        \n",
      "        Examples:\n",
      "            >>> divide(4.0, 2.0)\n",
      "            2.0\n",
      "            >>> divide(4, 2)\n",
      "            2.0\n",
      "            >>> divide(4, 0)\n",
      "            Traceback (most recent call last):\n",
      "            ...\n",
      "            ZeroDivisionError: division by zero\n",
      "    \n",
      "    multiply(a: float | int, b: float | int) -> float\n",
      "        Calculate the product of two numbers.\n",
      "        \n",
      "        Args:\n",
      "            a: Multiplicand in the multiplication\n",
      "            b: Multiplier in the multiplication\n",
      "        \n",
      "        Returns:\n",
      "            The product of `a` and `b`\n",
      "        \n",
      "        Examples:\n",
      "            >>> multiply(4.0, 2.0)\n",
      "            8.0\n",
      "            >>> multiply(4, 2)\n",
      "            8.0\n",
      "    \n",
      "    subtract(a: float | int, b: float | int) -> float\n",
      "        Calculate the difference of two numbers.\n",
      "        \n",
      "        Args:\n",
      "            a: Minuend in the subtraction\n",
      "            b: Subtrahend in the subtraction\n",
      "        \n",
      "        Returns:\n",
      "            The difference between of `a` and `b`\n",
      "        \n",
      "        Examples:\n",
      "            >>> subtract(4.0, 2.0)\n",
      "            2.0\n",
      "            >>> subtract(4, 2)\n",
      "            2.0\n",
      "\n",
      "FILE\n",
      "    /home/vitor/repo/sample_python/fico/calculations.py\n",
      "\n",
      "\n"
     ]
    }
   ],
   "source": [
    "help(calculations)"
   ]
  },
  {
   "cell_type": "code",
   "execution_count": 5,
   "metadata": {
    "ExecuteTime": {
     "start_time": "2023-04-22T18:54:15.150783Z",
     "end_time": "2023-04-22T18:54:15.198847Z"
    }
   },
   "outputs": [
    {
     "data": {
      "text/plain": "7.0"
     },
     "execution_count": 5,
     "metadata": {},
     "output_type": "execute_result"
    }
   ],
   "source": [
    "calculations.add(3, 4)"
   ]
  },
  {
   "cell_type": "code",
   "execution_count": null,
   "metadata": {},
   "outputs": [],
   "source": []
  }
 ],
 "metadata": {
  "kernelspec": {
   "display_name": "fico-hPM1Un3y-py3.11",
   "language": "python",
   "name": "python3"
  },
  "language_info": {
   "codemirror_mode": {
    "name": "ipython",
    "version": 3
   },
   "file_extension": ".py",
   "mimetype": "text/x-python",
   "name": "python",
   "nbconvert_exporter": "python",
   "pygments_lexer": "ipython3",
   "version": "3.11.3"
  },
  "orig_nbformat": 4
 },
 "nbformat": 4,
 "nbformat_minor": 2
}
